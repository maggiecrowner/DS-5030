{
 "cells": [
  {
   "cell_type": "markdown",
   "id": "87b91d83",
   "metadata": {},
   "source": [
    "# Assignment 1\n",
    "### Understanding Uncertainty\n",
    "### Due 9/5 \n",
    "### Maggie Crowner"
   ]
  },
  {
   "cell_type": "markdown",
   "id": "380e339f",
   "metadata": {},
   "source": [
    "1. Create a new public repo on Github under your account. Include a readme file.\n",
    "2. Clone it to your machine. Put this file into that repo.\n",
    "3. Use the following function to download the example data for the course:"
   ]
  },
  {
   "cell_type": "code",
   "execution_count": 2,
   "id": "2d62b4f6",
   "metadata": {},
   "outputs": [
    {
     "name": "stdout",
     "output_type": "stream",
     "text": [
      "Download file already exists\n",
      "Extracting data files...\n",
      "Data extracted\n"
     ]
    }
   ],
   "source": [
    "def download_data(force=False):\n",
    "    \"\"\"Download and extract course data from Zenodo.\"\"\"\n",
    "    import urllib.request, zipfile, os\n",
    "    \n",
    "    zip_path = 'data.zip'\n",
    "    data_dir = 'data'\n",
    "    \n",
    "    if not os.path.exists(zip_path) or force:\n",
    "        print(\"Downloading course data\")\n",
    "        urllib.request.urlretrieve(\n",
    "            'https://zenodo.org/records/16954427/files/data.zip?download=1',\n",
    "            zip_path\n",
    "        )\n",
    "        print(\"Download complete\")\n",
    "    else:\n",
    "        print(\"Download file already exists\")\n",
    "        \n",
    "    if not os.path.exists(data_dir) or force:\n",
    "        print(\"Extracting data files...\")\n",
    "        with zipfile.ZipFile(zip_path, 'r') as zip_ref:\n",
    "            zip_ref.extractall(data_dir)\n",
    "        print(\"Data extracted\")\n",
    "    else:\n",
    "        print(\"Data directory already exists\")\n",
    "\n",
    "download_data()"
   ]
  },
  {
   "cell_type": "markdown",
   "id": "01db0045",
   "metadata": {},
   "source": [
    "4. Open one of the datasets using Pandas:\n",
    "    1. `ames_prices.csv`: Housing characteristics and prices\n",
    "    2. `college_completion.csv`: Public, nonprofit, and for-profit educational institutions, graduation rates, and financial aid\n",
    "    3. `ForeignGifts_edu.csv`: Monetary and in-kind transfers from foreign entities to U.S. educational institutions\n",
    "    4. `iowa.csv`: Liquor sales in Iowa, at the transaction level\n",
    "    5. `metabric.csv`: Cancer patient and outcome data\n",
    "    6. `mn_police_use_of_force.csv`: Records of physical altercations between Minnessota police and private citizens\n",
    "    7. `nhanes_data_17_18.csv`: National Health and Nutrition Examination Survey\n",
    "    8. `tuna.csv`: Yellowfin Tuna Genome (I don't recommend this one; it's just a sequence of G, C, A, T )\n",
    "    9. `va_procurement.csv`: Public spending by the state of Virginia"
   ]
  },
  {
   "cell_type": "code",
   "execution_count": 28,
   "id": "afc6d290",
   "metadata": {},
   "outputs": [
    {
     "data": {
      "text/html": [
       "<div>\n",
       "<style scoped>\n",
       "    .dataframe tbody tr th:only-of-type {\n",
       "        vertical-align: middle;\n",
       "    }\n",
       "\n",
       "    .dataframe tbody tr th {\n",
       "        vertical-align: top;\n",
       "    }\n",
       "\n",
       "    .dataframe thead th {\n",
       "        text-align: right;\n",
       "    }\n",
       "</style>\n",
       "<table border=\"1\" class=\"dataframe\">\n",
       "  <thead>\n",
       "    <tr style=\"text-align: right;\">\n",
       "      <th></th>\n",
       "      <th>Age at Diagnosis</th>\n",
       "      <th>Type of Breast Surgery</th>\n",
       "      <th>Cancer Type</th>\n",
       "      <th>Chemotherapy</th>\n",
       "      <th>Hormone Therapy</th>\n",
       "      <th>Lymph nodes examined positive</th>\n",
       "      <th>Mutation Count</th>\n",
       "      <th>Nottingham prognostic index</th>\n",
       "      <th>Overall Survival (Months)</th>\n",
       "      <th>Overall Survival Status</th>\n",
       "      <th>Radio Therapy</th>\n",
       "      <th>TMB (nonsynonymous)</th>\n",
       "      <th>Tumor Size</th>\n",
       "      <th>Tumor Stage</th>\n",
       "    </tr>\n",
       "  </thead>\n",
       "  <tbody>\n",
       "    <tr>\n",
       "      <th>0</th>\n",
       "      <td>43.19</td>\n",
       "      <td>BREAST CONSERVING</td>\n",
       "      <td>Breast Cancer</td>\n",
       "      <td>NO</td>\n",
       "      <td>YES</td>\n",
       "      <td>0.0</td>\n",
       "      <td>2.0</td>\n",
       "      <td>4.020</td>\n",
       "      <td>84.633333</td>\n",
       "      <td>0:LIVING</td>\n",
       "      <td>YES</td>\n",
       "      <td>2.615035</td>\n",
       "      <td>10.0</td>\n",
       "      <td>1.0</td>\n",
       "    </tr>\n",
       "    <tr>\n",
       "      <th>1</th>\n",
       "      <td>48.87</td>\n",
       "      <td>MASTECTOMY</td>\n",
       "      <td>Breast Cancer</td>\n",
       "      <td>YES</td>\n",
       "      <td>YES</td>\n",
       "      <td>1.0</td>\n",
       "      <td>2.0</td>\n",
       "      <td>4.030</td>\n",
       "      <td>163.700000</td>\n",
       "      <td>1:DECEASED</td>\n",
       "      <td>NO</td>\n",
       "      <td>2.615035</td>\n",
       "      <td>15.0</td>\n",
       "      <td>2.0</td>\n",
       "    </tr>\n",
       "    <tr>\n",
       "      <th>2</th>\n",
       "      <td>47.68</td>\n",
       "      <td>MASTECTOMY</td>\n",
       "      <td>Breast Cancer</td>\n",
       "      <td>YES</td>\n",
       "      <td>YES</td>\n",
       "      <td>3.0</td>\n",
       "      <td>1.0</td>\n",
       "      <td>4.050</td>\n",
       "      <td>164.933333</td>\n",
       "      <td>0:LIVING</td>\n",
       "      <td>YES</td>\n",
       "      <td>1.307518</td>\n",
       "      <td>25.0</td>\n",
       "      <td>2.0</td>\n",
       "    </tr>\n",
       "    <tr>\n",
       "      <th>3</th>\n",
       "      <td>76.97</td>\n",
       "      <td>MASTECTOMY</td>\n",
       "      <td>Breast Cancer</td>\n",
       "      <td>YES</td>\n",
       "      <td>YES</td>\n",
       "      <td>8.0</td>\n",
       "      <td>2.0</td>\n",
       "      <td>6.080</td>\n",
       "      <td>41.366667</td>\n",
       "      <td>1:DECEASED</td>\n",
       "      <td>YES</td>\n",
       "      <td>2.615035</td>\n",
       "      <td>40.0</td>\n",
       "      <td>2.0</td>\n",
       "    </tr>\n",
       "    <tr>\n",
       "      <th>4</th>\n",
       "      <td>78.77</td>\n",
       "      <td>MASTECTOMY</td>\n",
       "      <td>Breast Cancer</td>\n",
       "      <td>NO</td>\n",
       "      <td>YES</td>\n",
       "      <td>0.0</td>\n",
       "      <td>4.0</td>\n",
       "      <td>4.062</td>\n",
       "      <td>7.800000</td>\n",
       "      <td>1:DECEASED</td>\n",
       "      <td>YES</td>\n",
       "      <td>5.230071</td>\n",
       "      <td>31.0</td>\n",
       "      <td>4.0</td>\n",
       "    </tr>\n",
       "  </tbody>\n",
       "</table>\n",
       "</div>"
      ],
      "text/plain": [
       "   Age at Diagnosis Type of Breast Surgery    Cancer Type Chemotherapy  \\\n",
       "0             43.19      BREAST CONSERVING  Breast Cancer           NO   \n",
       "1             48.87             MASTECTOMY  Breast Cancer          YES   \n",
       "2             47.68             MASTECTOMY  Breast Cancer          YES   \n",
       "3             76.97             MASTECTOMY  Breast Cancer          YES   \n",
       "4             78.77             MASTECTOMY  Breast Cancer           NO   \n",
       "\n",
       "  Hormone Therapy  Lymph nodes examined positive  Mutation Count  \\\n",
       "0             YES                            0.0             2.0   \n",
       "1             YES                            1.0             2.0   \n",
       "2             YES                            3.0             1.0   \n",
       "3             YES                            8.0             2.0   \n",
       "4             YES                            0.0             4.0   \n",
       "\n",
       "   Nottingham prognostic index  Overall Survival (Months)  \\\n",
       "0                        4.020                  84.633333   \n",
       "1                        4.030                 163.700000   \n",
       "2                        4.050                 164.933333   \n",
       "3                        6.080                  41.366667   \n",
       "4                        4.062                   7.800000   \n",
       "\n",
       "  Overall Survival Status Radio Therapy  TMB (nonsynonymous)  Tumor Size  \\\n",
       "0                0:LIVING           YES             2.615035        10.0   \n",
       "1              1:DECEASED            NO             2.615035        15.0   \n",
       "2                0:LIVING           YES             1.307518        25.0   \n",
       "3              1:DECEASED           YES             2.615035        40.0   \n",
       "4              1:DECEASED           YES             5.230071        31.0   \n",
       "\n",
       "   Tumor Stage  \n",
       "0          1.0  \n",
       "1          2.0  \n",
       "2          2.0  \n",
       "3          2.0  \n",
       "4          4.0  "
      ]
     },
     "metadata": {},
     "output_type": "display_data"
    }
   ],
   "source": [
    "import pandas as pd\n",
    "df = pd.read_csv('/Users/maggiecrowner/Desktop/MSDS/DS 5030/DS-5030/data/metabric.csv')\n",
    "display(df.head())"
   ]
  },
  {
   "cell_type": "markdown",
   "id": "fa5cade1",
   "metadata": {},
   "source": [
    "5. Pick two or three variables and briefly analyze them\n",
    "    - Is it a categorical or numeric variable?\n",
    "    - How many missing values are there? (`df['var'].isna()` and `np.sum()`)\n",
    "    - If categorical, tabulate the values (`df['var'].value_counts()`) and if numeric, get a summary (`df['var'].describe()`)"
   ]
  },
  {
   "cell_type": "code",
   "execution_count": 30,
   "id": "717060dc",
   "metadata": {},
   "outputs": [
    {
     "name": "stdout",
     "output_type": "stream",
     "text": [
      "Variable: Overall Survival Status \n",
      "\n",
      "Type: Categorical \n",
      "\n",
      "Number of missing values:  0 \n",
      "\n",
      "Overall Survival Status\n",
      "1:DECEASED    768\n",
      "0:LIVING      575\n",
      "Name: count, dtype: int64\n"
     ]
    }
   ],
   "source": [
    "### Overall Survival Status\n",
    "print(\"Variable: Overall Survival Status \\n\")\n",
    "print(\"Type: Categorical \\n\")\n",
    "print(\"Number of missing values: \",df['Overall Survival Status'].isna().sum(),\"\\n\")\n",
    "print(df['Overall Survival Status'].value_counts())"
   ]
  },
  {
   "cell_type": "code",
   "execution_count": 31,
   "id": "c63a865f",
   "metadata": {},
   "outputs": [
    {
     "name": "stdout",
     "output_type": "stream",
     "text": [
      "Variable: Radio Therapy \n",
      "\n",
      "Type: Categorical \n",
      "\n",
      "Number of missing values:  0 \n",
      "\n",
      "Radio Therapy\n",
      "YES    886\n",
      "NO     457\n",
      "Name: count, dtype: int64\n"
     ]
    }
   ],
   "source": [
    "### Radio Therapy\n",
    "print(\"Variable: Radio Therapy \\n\")\n",
    "print(\"Type: Categorical \\n\")\n",
    "print(\"Number of missing values: \",df['Radio Therapy'].isna().sum(),\"\\n\")\n",
    "print(df['Radio Therapy'].value_counts())"
   ]
  },
  {
   "cell_type": "code",
   "execution_count": 32,
   "id": "b8b52df6",
   "metadata": {},
   "outputs": [
    {
     "name": "stdout",
     "output_type": "stream",
     "text": [
      "Variable: Overall Survival (Months) \n",
      "\n",
      "Type: Numeric \n",
      "\n",
      "Number of missing values:  0 \n",
      "\n",
      "count    1343.000000\n",
      "mean      129.094291\n",
      "std        78.290236\n",
      "min         0.100000\n",
      "25%        62.700000\n",
      "50%       118.533333\n",
      "75%       191.200000\n",
      "max       351.000000\n",
      "Name: Overall Survival (Months), dtype: float64\n"
     ]
    }
   ],
   "source": [
    "### Overall Survival (Months)\n",
    "print(\"Variable: Overall Survival (Months) \\n\")\n",
    "print(\"Type: Numeric \\n\")\n",
    "print(\"Number of missing values: \",df['Overall Survival (Months)'].isna().sum(),\"\\n\")\n",
    "print(df['Overall Survival (Months)'].describe())"
   ]
  },
  {
   "cell_type": "markdown",
   "id": "dbf2318a",
   "metadata": {},
   "source": [
    "6. What are some questions and prediction tools you could create using these data? Who would the stakeholder be for that prediction tool? What practical or ethical questions would it create? What other data would you want, that are not available in your data?"
   ]
  },
  {
   "cell_type": "markdown",
   "id": "8d3f59e2",
   "metadata": {},
   "source": [
    "A few questions I could create using this data include:\n",
    "\n",
    "- Is the number of lymph nodes examined positive associated with the months of survival?\n",
    "- Is age at diagnosis associated with survival status?\n",
    "- Can we predict the months of survival using other variables about health and treatment?\n",
    "\n",
    "The last question prompts for a regression analysis for prediction of survival, which is the predictor tool. The stakeholders for this tool would be doctors and researchers, as well as the patients themselves and their family members. The biggest practical question here is whether it is truly possible to predict cancer outcomes at a high rate of confidence, since cancer is such an unpredictable disease. This also prompts for ethical considerations, as you are dealing with someone's life. If a prediction tool caused a doctor to not administer a certain treatment (that actually could have saved them, or vice versa) or to suggest the wrong prognosis to the patient and their family, that would have incredibly negative emotional effects on the patient and family. Additional data I would want that I don't currently have includes gender, ethnicity, region, socioeconomic status, other health problems, and information on a patient's support system, as these are all things that could affect their prognosis as well."
   ]
  },
  {
   "cell_type": "markdown",
   "id": "a4a7ddc7",
   "metadata": {},
   "source": [
    "7. Commit your work to the repo (`git commit -am 'Finish assignment'` at the command line, or use the Git panel in VS Code). Push your work back to Github and submit the link on Canvas in the assignment tab."
   ]
  }
 ],
 "metadata": {
  "kernelspec": {
   "display_name": "miniconda3-5030",
   "language": "python",
   "name": "python3"
  },
  "language_info": {
   "codemirror_mode": {
    "name": "ipython",
    "version": 3
   },
   "file_extension": ".py",
   "mimetype": "text/x-python",
   "name": "python",
   "nbconvert_exporter": "python",
   "pygments_lexer": "ipython3",
   "version": "3.13.5"
  }
 },
 "nbformat": 4,
 "nbformat_minor": 5
}
